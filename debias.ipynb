{
 "cells": [
  {
   "cell_type": "code",
   "execution_count": 1,
   "id": "dec90f31-bb96-4cc7-ba19-53d132bc3972",
   "metadata": {},
   "outputs": [],
   "source": [
    "import torch.nn as nn\n",
    "import torch.optim as optim\n",
    "import torch.nn.functional as F\n",
    "import torch\n",
    "from torch.utils.data import Dataset, DataLoader\n",
    "import pandas as pd\n",
    "import numpy as np\n",
    "from sklearn.model_selection import train_test_split\n",
    "from sklearn.metrics import roc_auc_score\n",
    "import os\n",
    "from tqdm import tqdm\n",
    "from torch.optim.lr_scheduler import ReduceLROnPlateau"
   ]
  },
  {
   "cell_type": "code",
   "execution_count": 2,
   "id": "2d6c8169-ec9e-410b-a8e7-bf7013dacb87",
   "metadata": {},
   "outputs": [],
   "source": [
    "class TFRecordVectorDataset(Dataset):\n",
    "    def __init__(self, dataframe):\n",
    "        self.data = dataframe\n",
    "        self.paths = self.data['path'].tolist()\n",
    "        self.labels = self.data.iloc[:, -14:].values.astype(np.float32)  # the last 14 columns are labels\n",
    "        self.group_ids = pd.factorize(self.data['race'])[0]  # Focusing on \"race\"\n",
    "\n",
    "        ###\n",
    "        codes, uniques = pd.factorize(self.data['race'])\n",
    "        counts = pd.Series(codes).value_counts().sort_index()\n",
    "        mapping = dict(enumerate(uniques))\n",
    "        for code, count in counts.items():\n",
    "            print(f\"{code}: {mapping[code]} -> {count} times\")\n",
    "        ###\n",
    "\n",
    "    def __len__(self):\n",
    "        return len(self.paths)\n",
    "\n",
    "    def __getitem__(self, idx):\n",
    "        path = self.paths[idx]\n",
    "        try:\n",
    "            # convert .tfrecord to .npy and load them from the disk\n",
    "            npy_path = path.replace('.tfrecord', '.npy')\n",
    "            embedding = np.load(npy_path)\n",
    "\n",
    "            # converting to tensor\n",
    "            embedding_tensor = torch.tensor(embedding, dtype=torch.float32)  # input shape: (1376,)\n",
    "            label_tensor = torch.tensor(self.labels[idx], dtype=torch.float32)  # label shape: (14,)\n",
    "            group_id = torch.tensor(self.group_ids[idx], dtype=torch.int64)  # get the sensitive features: (1,)\n",
    "            return embedding_tensor, label_tensor, group_id\n",
    "        except Exception as e:\n",
    "            print(f\"Error loading {path}: {str(e)}\")\n",
    "            return torch.zeros(1376), torch.zeros(14), torch.tensor(-1, dtype=torch.int64)"
   ]
  },
  {
   "cell_type": "code",
   "execution_count": 3,
   "id": "f5c36ae9-026f-4c15-af00-d847cde334f8",
   "metadata": {},
   "outputs": [
    {
     "name": "stdout",
     "output_type": "stream",
     "text": [
      "0: WHITE -> 135856 times\n",
      "1: BLACK/AFRICAN AMERICAN -> 32887 times\n",
      "2: OTHER -> 9664 times\n",
      "3: ASIAN -> 6630 times\n",
      "4: HISPANIC/LATINO -> 11035 times\n",
      "5: AMERICAN INDIAN/ALASKA NATIVE -> 480 times\n",
      "0: WHITE -> 14508 times\n",
      "1: BLACK/AFRICAN AMERICAN -> 3685 times\n",
      "2: OTHER -> 1062 times\n",
      "3: HISPANIC/LATINO -> 1392 times\n",
      "4: ASIAN -> 760 times\n",
      "5: AMERICAN INDIAN/ALASKA NATIVE -> 184 times\n"
     ]
    }
   ],
   "source": [
    "# load dataset\n",
    "#using the GPU to boost\n",
    "os.environ['CUDA_VISIBLE_DEVICES'] = \"5\"\n",
    "train_df = pd.read_csv(\"training_set_debias.csv\")\n",
    "test_df = pd.read_csv(\"testset_debias.csv\")\n",
    "\n",
    "train_dataset = TFRecordVectorDataset(train_df)\n",
    "test_dataset = TFRecordVectorDataset(test_df)\n",
    "\n",
    "train_loader = DataLoader(train_dataset, batch_size=64, shuffle=True, num_workers=0)\n",
    "test_loader = DataLoader(test_dataset, batch_size=64, shuffle=False, num_workers=0)"
   ]
  },
  {
   "cell_type": "code",
   "execution_count": 4,
   "id": "775eb3ff-0600-4c09-b013-2a9de6d2a1ef",
   "metadata": {},
   "outputs": [],
   "source": [
    "class MLP(nn.Module):\n",
    "    def __init__(self, input_size, hidden_size1, hidden_size2, output_size):\n",
    "        super(MLP, self).__init__()\n",
    "        # First hidden layer\n",
    "        self.fc1 = nn.Linear(input_size, hidden_size1)\n",
    "        # Second hidden layer\n",
    "        self.fc2 = nn.Linear(hidden_size1, hidden_size2)\n",
    "        # Output\n",
    "        self.fc3 = nn.Linear(hidden_size2, output_size)\n",
    "        # Activation Func\n",
    "        self.relu = nn.ReLU()\n",
    "\n",
    "    def forward(self, x):\n",
    "        # First\n",
    "        out = self.fc1(x)\n",
    "        out = self.relu(out)\n",
    "        # Second\n",
    "        out = self.fc2(out)\n",
    "        out = self.relu(out)\n",
    "        # Output\n",
    "        out = self.fc3(out)\n",
    "        return out"
   ]
  },
  {
   "cell_type": "code",
   "execution_count": 5,
   "id": "6225824f-ffd8-43e4-858a-2c2795d6b1de",
   "metadata": {},
   "outputs": [],
   "source": [
    "class MultiLabelGroupDROLoss(nn.Module):\n",
    "    def __init__(self, num_groups, num_labels):\n",
    "        super().__init__()\n",
    "        self.num_groups = num_groups\n",
    "        self.num_labels = num_labels\n",
    "        self.loss_fn = nn.BCEWithLogitsLoss()  # using BCEWithLogitsLoss\n",
    "\n",
    "    def forward(self, logits, y, group_ids):\n",
    "        total_loss = 0.0\n",
    "        group_losses = torch.zeros(self.num_groups, device=logits.device)\n",
    "        group_counts = torch.zeros(self.num_groups, device=logits.device)\n",
    "        \n",
    "        for g in range(self.num_groups):\n",
    "            group_mask = (group_ids == g)\n",
    "            if group_mask.any():\n",
    "                # calculate the ave. loss of this sub-group over all labels\n",
    "                group_logits = logits[group_mask]\n",
    "                group_targets = y[group_mask]\n",
    "                group_loss = self.loss_fn(group_logits, group_targets)\n",
    "\n",
    "                \n",
    "                group_losses[g] = group_loss\n",
    "                group_counts[g] = 1  # mark this sub-group as existing\n",
    "                \n",
    "        # only calculate the loss for existing sub-groups\n",
    "        valid_groups = (group_counts > 0)\n",
    "        if valid_groups.any():\n",
    "            weights = torch.softmax(group_losses[valid_groups]/0.5, dim=0)  # using the temperature hyperparameter to focus on minority sub-groups\n",
    "            total_loss = torch.sum(weights * group_losses[valid_groups])\n",
    "            \n",
    "        return total_loss"
   ]
  },
  {
   "cell_type": "code",
   "execution_count": 6,
   "id": "487ccea7-c5c4-480d-9262-e82f2be89ab7",
   "metadata": {},
   "outputs": [],
   "source": [
    "group_ids_tensor = torch.tensor(train_dataset.group_ids, dtype=torch.int64)\n",
    "num_groups = len(torch.unique(group_ids_tensor))\n",
    "num_labels = 14"
   ]
  },
  {
   "cell_type": "code",
   "execution_count": 7,
   "id": "7f5363bb-05b4-4f55-9aad-d6afa9c097c0",
   "metadata": {},
   "outputs": [
    {
     "name": "stdout",
     "output_type": "stream",
     "text": [
      "cuda\n"
     ]
    },
    {
     "name": "stderr",
     "output_type": "stream",
     "text": [
      "/home/irithyll/miniconda3/envs/pyenv/lib/python3.10/site-packages/torch/optim/lr_scheduler.py:62: UserWarning: The verbose parameter is deprecated. Please use get_last_lr() to access the learning rate.\n",
      "  warnings.warn(\n"
     ]
    }
   ],
   "source": [
    "input_size = 1376  # the size of input\n",
    "hidden_size1 = 1024  # neurons of the first hidden layer\n",
    "hidden_size2 = 512  # neurons of the second hidden layer\n",
    "output_size = 14   # number of labels\n",
    "\n",
    "device = torch.device(\"cuda\" if torch.cuda.is_available() else \"cpu\")\n",
    "print(device)\n",
    "model = MLP(input_size, hidden_size1, hidden_size2, output_size)\n",
    "\n",
    "group_dro_loss = MultiLabelGroupDROLoss(num_groups,num_labels)\n",
    "\n",
    "\n",
    "optimizer = optim.Adam(model.parameters(), lr=0.003)\n",
    "scheduler = torch.optim.lr_scheduler.ReduceLROnPlateau(optimizer, mode='max', factor=0.5, patience=3, verbose=True)\n",
    "\n",
    "\n",
    "if torch.cuda.device_count() > 1:\n",
    "    print(f\"Using {torch.cuda.device_count()} GPUs!\")\n",
    "    model = nn.DataParallel(model)\n",
    "model = model.to(device)\n",
    "criterion = nn.BCEWithLogitsLoss()\n",
    "\n",
    "num_epochs = 30\n",
    "best_auroc = 0.0"
   ]
  },
  {
   "cell_type": "code",
   "execution_count": 8,
   "id": "69e08f06-9847-4522-95a5-970266bdef58",
   "metadata": {},
   "outputs": [
    {
     "name": "stderr",
     "output_type": "stream",
     "text": [
      "Epoch 1/30 - Training: 100%|████████████████████████████████████████████████████████| 3072/3072 [01:09<00:00, 44.26it/s]\n"
     ]
    },
    {
     "name": "stdout",
     "output_type": "stream",
     "text": [
      "Epoch 1, Train Loss: 0.2733\n",
      "Group 0: Samples = 135856, Avg Loss = 0.2804\n",
      "Group 1: Samples = 32887, Avg Loss = 0.2376\n",
      "Group 2: Samples = 9664, Avg Loss = 0.2674\n",
      "Group 3: Samples = 6630, Avg Loss = 0.2764\n",
      "Group 4: Samples = 11035, Avg Loss = 0.2256\n",
      "Group 5: Samples = 480, Avg Loss = 0.2829\n"
     ]
    },
    {
     "name": "stderr",
     "output_type": "stream",
     "text": [
      "Epoch 1/30 - Validation: 100%|████████████████████████████████████████████████████████| 338/338 [00:03<00:00, 87.76it/s]\n"
     ]
    },
    {
     "name": "stdout",
     "output_type": "stream",
     "text": [
      "Epoch 1, Validation Macro AUROC: 0.7890\n",
      "Best model saved with AUROC: 0.7890\n"
     ]
    },
    {
     "name": "stderr",
     "output_type": "stream",
     "text": [
      "Epoch 2/30 - Training: 100%|████████████████████████████████████████████████████████| 3072/3072 [01:09<00:00, 44.36it/s]\n"
     ]
    },
    {
     "name": "stdout",
     "output_type": "stream",
     "text": [
      "Epoch 2, Train Loss: 0.2656\n",
      "Group 0: Samples = 135856, Avg Loss = 0.2725\n",
      "Group 1: Samples = 32887, Avg Loss = 0.2303\n",
      "Group 2: Samples = 9664, Avg Loss = 0.2608\n",
      "Group 3: Samples = 6630, Avg Loss = 0.2665\n",
      "Group 4: Samples = 11035, Avg Loss = 0.2195\n",
      "Group 5: Samples = 480, Avg Loss = 0.2761\n"
     ]
    },
    {
     "name": "stderr",
     "output_type": "stream",
     "text": [
      "Epoch 2/30 - Validation: 100%|████████████████████████████████████████████████████████| 338/338 [00:03<00:00, 90.60it/s]\n"
     ]
    },
    {
     "name": "stdout",
     "output_type": "stream",
     "text": [
      "Epoch 2, Validation Macro AUROC: 0.7986\n",
      "Best model saved with AUROC: 0.7986\n"
     ]
    },
    {
     "name": "stderr",
     "output_type": "stream",
     "text": [
      "Epoch 3/30 - Training: 100%|████████████████████████████████████████████████████████| 3072/3072 [01:07<00:00, 45.46it/s]\n"
     ]
    },
    {
     "name": "stdout",
     "output_type": "stream",
     "text": [
      "Epoch 3, Train Loss: 0.2642\n",
      "Group 0: Samples = 135856, Avg Loss = 0.2711\n",
      "Group 1: Samples = 32887, Avg Loss = 0.2287\n",
      "Group 2: Samples = 9664, Avg Loss = 0.2586\n",
      "Group 3: Samples = 6630, Avg Loss = 0.2666\n",
      "Group 4: Samples = 11035, Avg Loss = 0.2178\n",
      "Group 5: Samples = 480, Avg Loss = 0.2739\n"
     ]
    },
    {
     "name": "stderr",
     "output_type": "stream",
     "text": [
      "Epoch 3/30 - Validation: 100%|████████████████████████████████████████████████████████| 338/338 [00:04<00:00, 82.49it/s]\n"
     ]
    },
    {
     "name": "stdout",
     "output_type": "stream",
     "text": [
      "Epoch 3, Validation Macro AUROC: 0.7927\n"
     ]
    },
    {
     "name": "stderr",
     "output_type": "stream",
     "text": [
      "Epoch 4/30 - Training: 100%|████████████████████████████████████████████████████████| 3072/3072 [01:08<00:00, 44.98it/s]\n"
     ]
    },
    {
     "name": "stdout",
     "output_type": "stream",
     "text": [
      "Epoch 4, Train Loss: 0.2611\n",
      "Group 0: Samples = 135856, Avg Loss = 0.2694\n",
      "Group 1: Samples = 32887, Avg Loss = 0.2270\n",
      "Group 2: Samples = 9664, Avg Loss = 0.2571\n",
      "Group 3: Samples = 6630, Avg Loss = 0.2638\n",
      "Group 4: Samples = 11035, Avg Loss = 0.2144\n",
      "Group 5: Samples = 480, Avg Loss = 0.2689\n"
     ]
    },
    {
     "name": "stderr",
     "output_type": "stream",
     "text": [
      "Epoch 4/30 - Validation: 100%|████████████████████████████████████████████████████████| 338/338 [00:03<00:00, 89.77it/s]\n"
     ]
    },
    {
     "name": "stdout",
     "output_type": "stream",
     "text": [
      "Epoch 4, Validation Macro AUROC: 0.8013\n",
      "Best model saved with AUROC: 0.8013\n"
     ]
    },
    {
     "name": "stderr",
     "output_type": "stream",
     "text": [
      "Epoch 5/30 - Training: 100%|████████████████████████████████████████████████████████| 3072/3072 [01:08<00:00, 44.53it/s]\n"
     ]
    },
    {
     "name": "stdout",
     "output_type": "stream",
     "text": [
      "Epoch 5, Train Loss: 0.2619\n",
      "Group 0: Samples = 135856, Avg Loss = 0.2696\n",
      "Group 1: Samples = 32887, Avg Loss = 0.2269\n",
      "Group 2: Samples = 9664, Avg Loss = 0.2593\n",
      "Group 3: Samples = 6630, Avg Loss = 0.2652\n",
      "Group 4: Samples = 11035, Avg Loss = 0.2138\n",
      "Group 5: Samples = 480, Avg Loss = 0.2684\n"
     ]
    },
    {
     "name": "stderr",
     "output_type": "stream",
     "text": [
      "Epoch 5/30 - Validation: 100%|████████████████████████████████████████████████████████| 338/338 [00:03<00:00, 87.51it/s]\n"
     ]
    },
    {
     "name": "stdout",
     "output_type": "stream",
     "text": [
      "Epoch 5, Validation Macro AUROC: 0.7983\n"
     ]
    },
    {
     "name": "stderr",
     "output_type": "stream",
     "text": [
      "Epoch 6/30 - Training: 100%|████████████████████████████████████████████████████████| 3072/3072 [01:08<00:00, 45.14it/s]\n"
     ]
    },
    {
     "name": "stdout",
     "output_type": "stream",
     "text": [
      "Epoch 6, Train Loss: 0.2607\n",
      "Group 0: Samples = 135856, Avg Loss = 0.2688\n",
      "Group 1: Samples = 32887, Avg Loss = 0.2253\n",
      "Group 2: Samples = 9664, Avg Loss = 0.2554\n",
      "Group 3: Samples = 6630, Avg Loss = 0.2635\n",
      "Group 4: Samples = 11035, Avg Loss = 0.2143\n",
      "Group 5: Samples = 480, Avg Loss = 0.2674\n"
     ]
    },
    {
     "name": "stderr",
     "output_type": "stream",
     "text": [
      "Epoch 6/30 - Validation: 100%|████████████████████████████████████████████████████████| 338/338 [00:03<00:00, 85.98it/s]\n"
     ]
    },
    {
     "name": "stdout",
     "output_type": "stream",
     "text": [
      "Epoch 6, Validation Macro AUROC: 0.7975\n"
     ]
    },
    {
     "name": "stderr",
     "output_type": "stream",
     "text": [
      "Epoch 7/30 - Training: 100%|████████████████████████████████████████████████████████| 3072/3072 [01:09<00:00, 44.47it/s]\n"
     ]
    },
    {
     "name": "stdout",
     "output_type": "stream",
     "text": [
      "Epoch 7, Train Loss: 0.2596\n",
      "Group 0: Samples = 135856, Avg Loss = 0.2681\n",
      "Group 1: Samples = 32887, Avg Loss = 0.2255\n",
      "Group 2: Samples = 9664, Avg Loss = 0.2524\n",
      "Group 3: Samples = 6630, Avg Loss = 0.2615\n",
      "Group 4: Samples = 11035, Avg Loss = 0.2163\n",
      "Group 5: Samples = 480, Avg Loss = 0.2654\n"
     ]
    },
    {
     "name": "stderr",
     "output_type": "stream",
     "text": [
      "Epoch 7/30 - Validation: 100%|████████████████████████████████████████████████████████| 338/338 [00:03<00:00, 86.29it/s]\n"
     ]
    },
    {
     "name": "stdout",
     "output_type": "stream",
     "text": [
      "Epoch 7, Validation Macro AUROC: 0.7982\n"
     ]
    },
    {
     "name": "stderr",
     "output_type": "stream",
     "text": [
      "Epoch 8/30 - Training: 100%|████████████████████████████████████████████████████████| 3072/3072 [01:05<00:00, 47.09it/s]\n"
     ]
    },
    {
     "name": "stdout",
     "output_type": "stream",
     "text": [
      "Epoch 8, Train Loss: 0.2587\n",
      "Group 0: Samples = 135856, Avg Loss = 0.2676\n",
      "Group 1: Samples = 32887, Avg Loss = 0.2260\n",
      "Group 2: Samples = 9664, Avg Loss = 0.2535\n",
      "Group 3: Samples = 6630, Avg Loss = 0.2598\n",
      "Group 4: Samples = 11035, Avg Loss = 0.2135\n",
      "Group 5: Samples = 480, Avg Loss = 0.2660\n"
     ]
    },
    {
     "name": "stderr",
     "output_type": "stream",
     "text": [
      "Epoch 8/30 - Validation: 100%|████████████████████████████████████████████████████████| 338/338 [00:03<00:00, 86.38it/s]\n"
     ]
    },
    {
     "name": "stdout",
     "output_type": "stream",
     "text": [
      "Epoch 8, Validation Macro AUROC: 0.8010\n"
     ]
    },
    {
     "name": "stderr",
     "output_type": "stream",
     "text": [
      "Epoch 9/30 - Training: 100%|████████████████████████████████████████████████████████| 3072/3072 [01:07<00:00, 45.73it/s]\n"
     ]
    },
    {
     "name": "stdout",
     "output_type": "stream",
     "text": [
      "Epoch 9, Train Loss: 0.2549\n",
      "Group 0: Samples = 135856, Avg Loss = 0.2641\n",
      "Group 1: Samples = 32887, Avg Loss = 0.2222\n",
      "Group 2: Samples = 9664, Avg Loss = 0.2503\n",
      "Group 3: Samples = 6630, Avg Loss = 0.2571\n",
      "Group 4: Samples = 11035, Avg Loss = 0.2104\n",
      "Group 5: Samples = 480, Avg Loss = 0.2601\n"
     ]
    },
    {
     "name": "stderr",
     "output_type": "stream",
     "text": [
      "Epoch 9/30 - Validation: 100%|████████████████████████████████████████████████████████| 338/338 [00:04<00:00, 82.34it/s]\n"
     ]
    },
    {
     "name": "stdout",
     "output_type": "stream",
     "text": [
      "Epoch 9, Validation Macro AUROC: 0.8063\n",
      "Best model saved with AUROC: 0.8063\n"
     ]
    },
    {
     "name": "stderr",
     "output_type": "stream",
     "text": [
      "Epoch 10/30 - Training: 100%|███████████████████████████████████████████████████████| 3072/3072 [01:08<00:00, 44.84it/s]\n"
     ]
    },
    {
     "name": "stdout",
     "output_type": "stream",
     "text": [
      "Epoch 10, Train Loss: 0.2538\n",
      "Group 0: Samples = 135856, Avg Loss = 0.2637\n",
      "Group 1: Samples = 32887, Avg Loss = 0.2218\n",
      "Group 2: Samples = 9664, Avg Loss = 0.2469\n",
      "Group 3: Samples = 6630, Avg Loss = 0.2556\n",
      "Group 4: Samples = 11035, Avg Loss = 0.2095\n",
      "Group 5: Samples = 480, Avg Loss = 0.2581\n"
     ]
    },
    {
     "name": "stderr",
     "output_type": "stream",
     "text": [
      "Epoch 10/30 - Validation: 100%|███████████████████████████████████████████████████████| 338/338 [00:04<00:00, 83.64it/s]\n"
     ]
    },
    {
     "name": "stdout",
     "output_type": "stream",
     "text": [
      "Epoch 10, Validation Macro AUROC: 0.8067\n",
      "Best model saved with AUROC: 0.8067\n"
     ]
    },
    {
     "name": "stderr",
     "output_type": "stream",
     "text": [
      "Epoch 11/30 - Training: 100%|███████████████████████████████████████████████████████| 3072/3072 [01:09<00:00, 44.36it/s]\n"
     ]
    },
    {
     "name": "stdout",
     "output_type": "stream",
     "text": [
      "Epoch 11, Train Loss: 0.2534\n",
      "Group 0: Samples = 135856, Avg Loss = 0.2636\n",
      "Group 1: Samples = 32887, Avg Loss = 0.2212\n",
      "Group 2: Samples = 9664, Avg Loss = 0.2491\n",
      "Group 3: Samples = 6630, Avg Loss = 0.2554\n",
      "Group 4: Samples = 11035, Avg Loss = 0.2078\n",
      "Group 5: Samples = 480, Avg Loss = 0.2547\n"
     ]
    },
    {
     "name": "stderr",
     "output_type": "stream",
     "text": [
      "Epoch 11/30 - Validation: 100%|███████████████████████████████████████████████████████| 338/338 [00:03<00:00, 89.03it/s]\n"
     ]
    },
    {
     "name": "stdout",
     "output_type": "stream",
     "text": [
      "Epoch 11, Validation Macro AUROC: 0.8048\n"
     ]
    },
    {
     "name": "stderr",
     "output_type": "stream",
     "text": [
      "Epoch 12/30 - Training: 100%|███████████████████████████████████████████████████████| 3072/3072 [01:07<00:00, 45.63it/s]\n"
     ]
    },
    {
     "name": "stdout",
     "output_type": "stream",
     "text": [
      "Epoch 12, Train Loss: 0.2538\n",
      "Group 0: Samples = 135856, Avg Loss = 0.2635\n",
      "Group 1: Samples = 32887, Avg Loss = 0.2214\n",
      "Group 2: Samples = 9664, Avg Loss = 0.2494\n",
      "Group 3: Samples = 6630, Avg Loss = 0.2534\n",
      "Group 4: Samples = 11035, Avg Loss = 0.2094\n",
      "Group 5: Samples = 480, Avg Loss = 0.2580\n"
     ]
    },
    {
     "name": "stderr",
     "output_type": "stream",
     "text": [
      "Epoch 12/30 - Validation: 100%|███████████████████████████████████████████████████████| 338/338 [00:03<00:00, 90.80it/s]\n"
     ]
    },
    {
     "name": "stdout",
     "output_type": "stream",
     "text": [
      "Epoch 12, Validation Macro AUROC: 0.8095\n",
      "Best model saved with AUROC: 0.8095\n"
     ]
    },
    {
     "name": "stderr",
     "output_type": "stream",
     "text": [
      "Epoch 13/30 - Training: 100%|███████████████████████████████████████████████████████| 3072/3072 [01:08<00:00, 44.75it/s]\n"
     ]
    },
    {
     "name": "stdout",
     "output_type": "stream",
     "text": [
      "Epoch 13, Train Loss: 0.2537\n",
      "Group 0: Samples = 135856, Avg Loss = 0.2632\n",
      "Group 1: Samples = 32887, Avg Loss = 0.2213\n",
      "Group 2: Samples = 9664, Avg Loss = 0.2506\n",
      "Group 3: Samples = 6630, Avg Loss = 0.2540\n",
      "Group 4: Samples = 11035, Avg Loss = 0.2084\n",
      "Group 5: Samples = 480, Avg Loss = 0.2569\n"
     ]
    },
    {
     "name": "stderr",
     "output_type": "stream",
     "text": [
      "Epoch 13/30 - Validation: 100%|███████████████████████████████████████████████████████| 338/338 [00:03<00:00, 89.71it/s]\n"
     ]
    },
    {
     "name": "stdout",
     "output_type": "stream",
     "text": [
      "Epoch 13, Validation Macro AUROC: 0.8083\n"
     ]
    },
    {
     "name": "stderr",
     "output_type": "stream",
     "text": [
      "Epoch 14/30 - Training: 100%|███████████████████████████████████████████████████████| 3072/3072 [01:09<00:00, 44.43it/s]\n"
     ]
    },
    {
     "name": "stdout",
     "output_type": "stream",
     "text": [
      "Epoch 14, Train Loss: 0.2519\n",
      "Group 0: Samples = 135856, Avg Loss = 0.2631\n",
      "Group 1: Samples = 32887, Avg Loss = 0.2208\n",
      "Group 2: Samples = 9664, Avg Loss = 0.2463\n",
      "Group 3: Samples = 6630, Avg Loss = 0.2534\n",
      "Group 4: Samples = 11035, Avg Loss = 0.2062\n",
      "Group 5: Samples = 480, Avg Loss = 0.2566\n"
     ]
    },
    {
     "name": "stderr",
     "output_type": "stream",
     "text": [
      "Epoch 14/30 - Validation: 100%|███████████████████████████████████████████████████████| 338/338 [00:03<00:00, 88.62it/s]\n"
     ]
    },
    {
     "name": "stdout",
     "output_type": "stream",
     "text": [
      "Epoch 14, Validation Macro AUROC: 0.8077\n"
     ]
    },
    {
     "name": "stderr",
     "output_type": "stream",
     "text": [
      "Epoch 15/30 - Training: 100%|███████████████████████████████████████████████████████| 3072/3072 [01:07<00:00, 45.31it/s]\n"
     ]
    },
    {
     "name": "stdout",
     "output_type": "stream",
     "text": [
      "Epoch 15, Train Loss: 0.2526\n",
      "Group 0: Samples = 135856, Avg Loss = 0.2631\n",
      "Group 1: Samples = 32887, Avg Loss = 0.2213\n",
      "Group 2: Samples = 9664, Avg Loss = 0.2469\n",
      "Group 3: Samples = 6630, Avg Loss = 0.2525\n",
      "Group 4: Samples = 11035, Avg Loss = 0.2090\n",
      "Group 5: Samples = 480, Avg Loss = 0.2536\n"
     ]
    },
    {
     "name": "stderr",
     "output_type": "stream",
     "text": [
      "Epoch 15/30 - Validation: 100%|███████████████████████████████████████████████████████| 338/338 [00:03<00:00, 90.57it/s]\n"
     ]
    },
    {
     "name": "stdout",
     "output_type": "stream",
     "text": [
      "Epoch 15, Validation Macro AUROC: 0.8079\n"
     ]
    },
    {
     "name": "stderr",
     "output_type": "stream",
     "text": [
      "Epoch 16/30 - Training: 100%|███████████████████████████████████████████████████████| 3072/3072 [01:08<00:00, 44.90it/s]\n"
     ]
    },
    {
     "name": "stdout",
     "output_type": "stream",
     "text": [
      "Epoch 16, Train Loss: 0.2529\n",
      "Group 0: Samples = 135856, Avg Loss = 0.2631\n",
      "Group 1: Samples = 32887, Avg Loss = 0.2213\n",
      "Group 2: Samples = 9664, Avg Loss = 0.2477\n",
      "Group 3: Samples = 6630, Avg Loss = 0.2516\n",
      "Group 4: Samples = 11035, Avg Loss = 0.2095\n",
      "Group 5: Samples = 480, Avg Loss = 0.2562\n"
     ]
    },
    {
     "name": "stderr",
     "output_type": "stream",
     "text": [
      "Epoch 16/30 - Validation: 100%|███████████████████████████████████████████████████████| 338/338 [00:03<00:00, 93.23it/s]\n"
     ]
    },
    {
     "name": "stdout",
     "output_type": "stream",
     "text": [
      "Epoch 16, Validation Macro AUROC: 0.8088\n"
     ]
    },
    {
     "name": "stderr",
     "output_type": "stream",
     "text": [
      "Epoch 17/30 - Training: 100%|███████████████████████████████████████████████████████| 3072/3072 [01:07<00:00, 45.21it/s]\n"
     ]
    },
    {
     "name": "stdout",
     "output_type": "stream",
     "text": [
      "Epoch 17, Train Loss: 0.2487\n",
      "Group 0: Samples = 135856, Avg Loss = 0.2611\n",
      "Group 1: Samples = 32887, Avg Loss = 0.2195\n",
      "Group 2: Samples = 9664, Avg Loss = 0.2429\n",
      "Group 3: Samples = 6630, Avg Loss = 0.2468\n",
      "Group 4: Samples = 11035, Avg Loss = 0.2053\n",
      "Group 5: Samples = 480, Avg Loss = 0.2500\n"
     ]
    },
    {
     "name": "stderr",
     "output_type": "stream",
     "text": [
      "Epoch 17/30 - Validation: 100%|███████████████████████████████████████████████████████| 338/338 [00:03<00:00, 91.04it/s]\n"
     ]
    },
    {
     "name": "stdout",
     "output_type": "stream",
     "text": [
      "Epoch 17, Validation Macro AUROC: 0.8117\n",
      "Best model saved with AUROC: 0.8117\n"
     ]
    },
    {
     "name": "stderr",
     "output_type": "stream",
     "text": [
      "Epoch 18/30 - Training: 100%|███████████████████████████████████████████████████████| 3072/3072 [01:07<00:00, 45.49it/s]\n"
     ]
    },
    {
     "name": "stdout",
     "output_type": "stream",
     "text": [
      "Epoch 18, Train Loss: 0.2503\n",
      "Group 0: Samples = 135856, Avg Loss = 0.2610\n",
      "Group 1: Samples = 32887, Avg Loss = 0.2189\n",
      "Group 2: Samples = 9664, Avg Loss = 0.2448\n",
      "Group 3: Samples = 6630, Avg Loss = 0.2503\n",
      "Group 4: Samples = 11035, Avg Loss = 0.2066\n",
      "Group 5: Samples = 480, Avg Loss = 0.2518\n"
     ]
    },
    {
     "name": "stderr",
     "output_type": "stream",
     "text": [
      "Epoch 18/30 - Validation: 100%|███████████████████████████████████████████████████████| 338/338 [00:03<00:00, 89.84it/s]\n"
     ]
    },
    {
     "name": "stdout",
     "output_type": "stream",
     "text": [
      "Epoch 18, Validation Macro AUROC: 0.8096\n"
     ]
    },
    {
     "name": "stderr",
     "output_type": "stream",
     "text": [
      "Epoch 19/30 - Training: 100%|███████████████████████████████████████████████████████| 3072/3072 [01:06<00:00, 46.02it/s]\n"
     ]
    },
    {
     "name": "stdout",
     "output_type": "stream",
     "text": [
      "Epoch 19, Train Loss: 0.2493\n",
      "Group 0: Samples = 135856, Avg Loss = 0.2609\n",
      "Group 1: Samples = 32887, Avg Loss = 0.2185\n",
      "Group 2: Samples = 9664, Avg Loss = 0.2465\n",
      "Group 3: Samples = 6630, Avg Loss = 0.2475\n",
      "Group 4: Samples = 11035, Avg Loss = 0.2056\n",
      "Group 5: Samples = 480, Avg Loss = 0.2481\n"
     ]
    },
    {
     "name": "stderr",
     "output_type": "stream",
     "text": [
      "Epoch 19/30 - Validation: 100%|███████████████████████████████████████████████████████| 338/338 [00:03<00:00, 92.23it/s]\n"
     ]
    },
    {
     "name": "stdout",
     "output_type": "stream",
     "text": [
      "Epoch 19, Validation Macro AUROC: 0.8107\n"
     ]
    },
    {
     "name": "stderr",
     "output_type": "stream",
     "text": [
      "Epoch 20/30 - Training: 100%|███████████████████████████████████████████████████████| 3072/3072 [01:06<00:00, 46.36it/s]\n"
     ]
    },
    {
     "name": "stdout",
     "output_type": "stream",
     "text": [
      "Epoch 20, Train Loss: 0.2498\n",
      "Group 0: Samples = 135856, Avg Loss = 0.2610\n",
      "Group 1: Samples = 32887, Avg Loss = 0.2189\n",
      "Group 2: Samples = 9664, Avg Loss = 0.2457\n",
      "Group 3: Samples = 6630, Avg Loss = 0.2485\n",
      "Group 4: Samples = 11035, Avg Loss = 0.2055\n",
      "Group 5: Samples = 480, Avg Loss = 0.2479\n"
     ]
    },
    {
     "name": "stderr",
     "output_type": "stream",
     "text": [
      "Epoch 20/30 - Validation: 100%|███████████████████████████████████████████████████████| 338/338 [00:03<00:00, 93.38it/s]\n"
     ]
    },
    {
     "name": "stdout",
     "output_type": "stream",
     "text": [
      "Epoch 20, Validation Macro AUROC: 0.8104\n"
     ]
    },
    {
     "name": "stderr",
     "output_type": "stream",
     "text": [
      "Epoch 21/30 - Training: 100%|███████████████████████████████████████████████████████| 3072/3072 [01:07<00:00, 45.34it/s]\n"
     ]
    },
    {
     "name": "stdout",
     "output_type": "stream",
     "text": [
      "Epoch 21, Train Loss: 0.2499\n",
      "Group 0: Samples = 135856, Avg Loss = 0.2610\n",
      "Group 1: Samples = 32887, Avg Loss = 0.2187\n",
      "Group 2: Samples = 9664, Avg Loss = 0.2440\n",
      "Group 3: Samples = 6630, Avg Loss = 0.2495\n",
      "Group 4: Samples = 11035, Avg Loss = 0.2070\n",
      "Group 5: Samples = 480, Avg Loss = 0.2477\n"
     ]
    },
    {
     "name": "stderr",
     "output_type": "stream",
     "text": [
      "Epoch 21/30 - Validation: 100%|███████████████████████████████████████████████████████| 338/338 [00:03<00:00, 90.83it/s]\n"
     ]
    },
    {
     "name": "stdout",
     "output_type": "stream",
     "text": [
      "Epoch 21, Validation Macro AUROC: 0.8113\n"
     ]
    },
    {
     "name": "stderr",
     "output_type": "stream",
     "text": [
      "Epoch 22/30 - Training: 100%|███████████████████████████████████████████████████████| 3072/3072 [01:06<00:00, 46.13it/s]\n"
     ]
    },
    {
     "name": "stdout",
     "output_type": "stream",
     "text": [
      "Epoch 22, Train Loss: 0.2485\n",
      "Group 0: Samples = 135856, Avg Loss = 0.2598\n",
      "Group 1: Samples = 32887, Avg Loss = 0.2178\n",
      "Group 2: Samples = 9664, Avg Loss = 0.2432\n",
      "Group 3: Samples = 6630, Avg Loss = 0.2491\n",
      "Group 4: Samples = 11035, Avg Loss = 0.2039\n",
      "Group 5: Samples = 480, Avg Loss = 0.2442\n"
     ]
    },
    {
     "name": "stderr",
     "output_type": "stream",
     "text": [
      "Epoch 22/30 - Validation: 100%|███████████████████████████████████████████████████████| 338/338 [00:03<00:00, 90.18it/s]\n"
     ]
    },
    {
     "name": "stdout",
     "output_type": "stream",
     "text": [
      "Epoch 22, Validation Macro AUROC: 0.8117\n"
     ]
    },
    {
     "name": "stderr",
     "output_type": "stream",
     "text": [
      "Epoch 23/30 - Training: 100%|███████████████████████████████████████████████████████| 3072/3072 [01:09<00:00, 44.43it/s]\n"
     ]
    },
    {
     "name": "stdout",
     "output_type": "stream",
     "text": [
      "Epoch 23, Train Loss: 0.2480\n",
      "Group 0: Samples = 135856, Avg Loss = 0.2597\n",
      "Group 1: Samples = 32887, Avg Loss = 0.2180\n",
      "Group 2: Samples = 9664, Avg Loss = 0.2420\n",
      "Group 3: Samples = 6630, Avg Loss = 0.2487\n",
      "Group 4: Samples = 11035, Avg Loss = 0.2042\n",
      "Group 5: Samples = 480, Avg Loss = 0.2455\n"
     ]
    },
    {
     "name": "stderr",
     "output_type": "stream",
     "text": [
      "Epoch 23/30 - Validation: 100%|███████████████████████████████████████████████████████| 338/338 [00:03<00:00, 89.64it/s]\n"
     ]
    },
    {
     "name": "stdout",
     "output_type": "stream",
     "text": [
      "Epoch 23, Validation Macro AUROC: 0.8114\n"
     ]
    },
    {
     "name": "stderr",
     "output_type": "stream",
     "text": [
      "Epoch 24/30 - Training: 100%|███████████████████████████████████████████████████████| 3072/3072 [01:06<00:00, 46.04it/s]\n"
     ]
    },
    {
     "name": "stdout",
     "output_type": "stream",
     "text": [
      "Epoch 24, Train Loss: 0.2471\n",
      "Group 0: Samples = 135856, Avg Loss = 0.2598\n",
      "Group 1: Samples = 32887, Avg Loss = 0.2180\n",
      "Group 2: Samples = 9664, Avg Loss = 0.2408\n",
      "Group 3: Samples = 6630, Avg Loss = 0.2470\n",
      "Group 4: Samples = 11035, Avg Loss = 0.2043\n",
      "Group 5: Samples = 480, Avg Loss = 0.2458\n"
     ]
    },
    {
     "name": "stderr",
     "output_type": "stream",
     "text": [
      "Epoch 24/30 - Validation: 100%|███████████████████████████████████████████████████████| 338/338 [00:03<00:00, 90.49it/s]\n"
     ]
    },
    {
     "name": "stdout",
     "output_type": "stream",
     "text": [
      "Epoch 24, Validation Macro AUROC: 0.8109\n"
     ]
    },
    {
     "name": "stderr",
     "output_type": "stream",
     "text": [
      "Epoch 25/30 - Training: 100%|███████████████████████████████████████████████████████| 3072/3072 [01:07<00:00, 45.83it/s]\n"
     ]
    },
    {
     "name": "stdout",
     "output_type": "stream",
     "text": [
      "Epoch 25, Train Loss: 0.2480\n",
      "Group 0: Samples = 135856, Avg Loss = 0.2598\n",
      "Group 1: Samples = 32887, Avg Loss = 0.2176\n",
      "Group 2: Samples = 9664, Avg Loss = 0.2428\n",
      "Group 3: Samples = 6630, Avg Loss = 0.2462\n",
      "Group 4: Samples = 11035, Avg Loss = 0.2060\n",
      "Group 5: Samples = 480, Avg Loss = 0.2469\n"
     ]
    },
    {
     "name": "stderr",
     "output_type": "stream",
     "text": [
      "Epoch 25/30 - Validation: 100%|███████████████████████████████████████████████████████| 338/338 [00:03<00:00, 88.40it/s]\n"
     ]
    },
    {
     "name": "stdout",
     "output_type": "stream",
     "text": [
      "Epoch 25, Validation Macro AUROC: 0.8115\n"
     ]
    },
    {
     "name": "stderr",
     "output_type": "stream",
     "text": [
      "Epoch 26/30 - Training: 100%|███████████████████████████████████████████████████████| 3072/3072 [01:08<00:00, 45.00it/s]\n"
     ]
    },
    {
     "name": "stdout",
     "output_type": "stream",
     "text": [
      "Epoch 26, Train Loss: 0.2479\n",
      "Group 0: Samples = 135856, Avg Loss = 0.2592\n",
      "Group 1: Samples = 32887, Avg Loss = 0.2172\n",
      "Group 2: Samples = 9664, Avg Loss = 0.2438\n",
      "Group 3: Samples = 6630, Avg Loss = 0.2479\n",
      "Group 4: Samples = 11035, Avg Loss = 0.2031\n",
      "Group 5: Samples = 480, Avg Loss = 0.2491\n"
     ]
    },
    {
     "name": "stderr",
     "output_type": "stream",
     "text": [
      "Epoch 26/30 - Validation: 100%|███████████████████████████████████████████████████████| 338/338 [00:03<00:00, 92.27it/s]\n"
     ]
    },
    {
     "name": "stdout",
     "output_type": "stream",
     "text": [
      "Epoch 26, Validation Macro AUROC: 0.8123\n",
      "Best model saved with AUROC: 0.8123\n"
     ]
    },
    {
     "name": "stderr",
     "output_type": "stream",
     "text": [
      "Epoch 27/30 - Training: 100%|███████████████████████████████████████████████████████| 3072/3072 [01:09<00:00, 44.52it/s]\n"
     ]
    },
    {
     "name": "stdout",
     "output_type": "stream",
     "text": [
      "Epoch 27, Train Loss: 0.2469\n",
      "Group 0: Samples = 135856, Avg Loss = 0.2592\n",
      "Group 1: Samples = 32887, Avg Loss = 0.2173\n",
      "Group 2: Samples = 9664, Avg Loss = 0.2423\n",
      "Group 3: Samples = 6630, Avg Loss = 0.2444\n",
      "Group 4: Samples = 11035, Avg Loss = 0.2039\n",
      "Group 5: Samples = 480, Avg Loss = 0.2436\n"
     ]
    },
    {
     "name": "stderr",
     "output_type": "stream",
     "text": [
      "Epoch 27/30 - Validation: 100%|███████████████████████████████████████████████████████| 338/338 [00:03<00:00, 90.65it/s]\n"
     ]
    },
    {
     "name": "stdout",
     "output_type": "stream",
     "text": [
      "Epoch 27, Validation Macro AUROC: 0.8123\n",
      "Best model saved with AUROC: 0.8123\n"
     ]
    },
    {
     "name": "stderr",
     "output_type": "stream",
     "text": [
      "Epoch 28/30 - Training: 100%|███████████████████████████████████████████████████████| 3072/3072 [01:07<00:00, 45.28it/s]\n"
     ]
    },
    {
     "name": "stdout",
     "output_type": "stream",
     "text": [
      "Epoch 28, Train Loss: 0.2470\n",
      "Group 0: Samples = 135856, Avg Loss = 0.2592\n",
      "Group 1: Samples = 32887, Avg Loss = 0.2178\n",
      "Group 2: Samples = 9664, Avg Loss = 0.2416\n",
      "Group 3: Samples = 6630, Avg Loss = 0.2446\n",
      "Group 4: Samples = 11035, Avg Loss = 0.2050\n",
      "Group 5: Samples = 480, Avg Loss = 0.2443\n"
     ]
    },
    {
     "name": "stderr",
     "output_type": "stream",
     "text": [
      "Epoch 28/30 - Validation: 100%|███████████████████████████████████████████████████████| 338/338 [00:04<00:00, 81.77it/s]\n"
     ]
    },
    {
     "name": "stdout",
     "output_type": "stream",
     "text": [
      "Epoch 28, Validation Macro AUROC: 0.8114\n"
     ]
    },
    {
     "name": "stderr",
     "output_type": "stream",
     "text": [
      "Epoch 29/30 - Training: 100%|███████████████████████████████████████████████████████| 3072/3072 [01:07<00:00, 45.35it/s]\n"
     ]
    },
    {
     "name": "stdout",
     "output_type": "stream",
     "text": [
      "Epoch 29, Train Loss: 0.2468\n",
      "Group 0: Samples = 135856, Avg Loss = 0.2592\n",
      "Group 1: Samples = 32887, Avg Loss = 0.2170\n",
      "Group 2: Samples = 9664, Avg Loss = 0.2417\n",
      "Group 3: Samples = 6630, Avg Loss = 0.2462\n",
      "Group 4: Samples = 11035, Avg Loss = 0.2026\n",
      "Group 5: Samples = 480, Avg Loss = 0.2443\n"
     ]
    },
    {
     "name": "stderr",
     "output_type": "stream",
     "text": [
      "Epoch 29/30 - Validation: 100%|███████████████████████████████████████████████████████| 338/338 [00:03<00:00, 90.70it/s]\n"
     ]
    },
    {
     "name": "stdout",
     "output_type": "stream",
     "text": [
      "Epoch 29, Validation Macro AUROC: 0.8119\n"
     ]
    },
    {
     "name": "stderr",
     "output_type": "stream",
     "text": [
      "Epoch 30/30 - Training: 100%|███████████████████████████████████████████████████████| 3072/3072 [01:06<00:00, 45.89it/s]\n"
     ]
    },
    {
     "name": "stdout",
     "output_type": "stream",
     "text": [
      "Epoch 30, Train Loss: 0.2464\n",
      "Group 0: Samples = 135856, Avg Loss = 0.2592\n",
      "Group 1: Samples = 32887, Avg Loss = 0.2172\n",
      "Group 2: Samples = 9664, Avg Loss = 0.2401\n",
      "Group 3: Samples = 6630, Avg Loss = 0.2458\n",
      "Group 4: Samples = 11035, Avg Loss = 0.2028\n",
      "Group 5: Samples = 480, Avg Loss = 0.2456\n"
     ]
    },
    {
     "name": "stderr",
     "output_type": "stream",
     "text": [
      "Epoch 30/30 - Validation: 100%|███████████████████████████████████████████████████████| 338/338 [00:03<00:00, 90.14it/s]\n"
     ]
    },
    {
     "name": "stdout",
     "output_type": "stream",
     "text": [
      "Epoch 30, Validation Macro AUROC: 0.8116\n",
      "Training complete.\n"
     ]
    }
   ],
   "source": [
    "for epoch in range(num_epochs):\n",
    "    # Training precedure\n",
    "    model.train()\n",
    "    running_loss = 0.0\n",
    "    group_sample_counts = [0] * num_groups \n",
    "    group_losses_epoch = [[] for _ in range(num_groups)]  \n",
    "    for inputs, labels, group_ids in tqdm(train_loader, desc=f'Epoch {epoch+1}/{num_epochs} - Training'):\n",
    "        inputs, labels, group_ids = inputs.to(device), labels.to(device), group_ids.to(device)\n",
    "        \n",
    "        # Forward\n",
    "        outputs = model(inputs)\n",
    "        \n",
    "        # Compute conventional loss\n",
    "        loss = criterion(outputs, labels)\n",
    "        \n",
    "        # Compute GroupDRO loss\n",
    "        group_loss = group_dro_loss(outputs, labels, group_ids)\n",
    "        \n",
    "        # Backprop\n",
    "        optimizer.zero_grad()\n",
    "        total_loss = 0.30*loss + 0.70*group_loss\n",
    "        total_loss.backward()\n",
    "        #group_loss.backward()\n",
    "        optimizer.step()\n",
    "        \n",
    "        running_loss += group_loss.item()  # empirical loss of GroupDRO\n",
    "        for g in range(num_groups):\n",
    "            group_mask = (group_ids == g)\n",
    "            group_sample_counts[g] += group_mask.sum().item()  \n",
    "            if group_mask.sum() > 0:  \n",
    "                #group_loss_g = criterion(probs[group_mask], labels[group_mask])\n",
    "                group_loss_g = criterion(outputs[group_mask], labels[group_mask])       \n",
    "                group_losses_epoch[g].append(group_loss_g.item())\n",
    "                \n",
    "    # 打印训练损失\n",
    "    train_loss = running_loss / len(train_loader)\n",
    "    print(f'Epoch {epoch+1}, Train Loss: {train_loss:.4f}')\n",
    "\n",
    "    #print loss for each sub-groups\n",
    "    for g in range(num_groups):\n",
    "        if group_sample_counts[g] > 0:\n",
    "            avg_group_loss = np.mean(group_losses_epoch[g]) if group_losses_epoch[g] else 0.0\n",
    "            print(f\"Group {g}: Samples = {group_sample_counts[g]}, Avg Loss = {avg_group_loss:.4f}\")\n",
    "        else:\n",
    "            print(f\"Group {g}: Samples = 0, Avg Loss = 0.0\")\n",
    "    \n",
    "    # eva.\n",
    "    model.eval()\n",
    "    all_probs = []\n",
    "    all_labels = []\n",
    "    with torch.no_grad():\n",
    "        #using the test set to validate\n",
    "        for inputs, labels, _ in tqdm(test_loader, desc=f'Epoch {epoch+1}/{num_epochs} - Validation'):\n",
    "            inputs, labels = inputs.to(device), labels.to(device)\n",
    "            \n",
    "\n",
    "            outputs = model(inputs)\n",
    "            probs = torch.sigmoid(outputs) \n",
    "            \n",
    "            # save result\n",
    "            all_probs.append(probs.cpu().numpy())\n",
    "            all_labels.append(labels.cpu().numpy())\n",
    "\n",
    "    # compute AUROC\n",
    "    all_probs = np.concatenate(all_probs, axis=0)\n",
    "    all_labels = np.concatenate(all_labels, axis=0)\n",
    "    \n",
    "    auroc_scores = []\n",
    "    for i in range(all_labels.shape[1]):  # triverse all labels\n",
    "        try:\n",
    "            auroc = roc_auc_score(all_labels[:, i], all_probs[:, i])\n",
    "            auroc_scores.append(auroc)\n",
    "        except ValueError:\n",
    "            print(f\"Label {i} has no positive or negative samples in the test set.\")\n",
    "            auroc_scores.append(np.nan)\n",
    "    \n",
    "    # calculate macro AUROC\n",
    "    macro_auroc = np.nanmean(auroc_scores)\n",
    "    print(f'Epoch {epoch+1}, Validation Macro AUROC: {macro_auroc:.4f}')\n",
    "\n",
    "\n",
    "    scheduler.step(macro_auroc)\n",
    "\n",
    "    \n",
    "    # saves the best model\n",
    "    if macro_auroc > best_auroc:\n",
    "        best_auroc = macro_auroc\n",
    "        torch.save(model.state_dict(), 'best_mlp_model.pth')\n",
    "        print(f'Best model saved with AUROC: {best_auroc:.4f}')\n",
    "\n",
    "print('Training complete.')"
   ]
  },
  {
   "cell_type": "code",
   "execution_count": 9,
   "id": "95f1a673-fd3c-4788-8176-05cd1ba4cb50",
   "metadata": {},
   "outputs": [],
   "source": [
    "column_name = [\n",
    "    \"Enlarged Cardiomediastinum\", \"Cardiomegaly\", \"Lung Opacity\", \"Lung Lesion\",\n",
    "    \"Edema\", \"Consolidation\", \"Pneumonia\", \"Atelectasis\", \"Pneumothorax\",\n",
    "    \"Pleural Effusion\", \"Pleural Other\", \"Fracture\", \"Support Devices\", \"No Finding\"\n",
    "]\n",
    "torch.save(model.state_dict(), 'latest_mlp_model.pth')\n",
    "df_labels = pd.DataFrame(all_labels, columns=column_name)\n",
    "\n",
    "df_labels.to_csv(\"true_labels_debiased.csv\", index=False)\n",
    "df_predictions = pd.DataFrame(all_probs, columns=column_name)\n",
    "df_predictions.to_csv(\"predicted_labels_debiased.csv\", index=False)"
   ]
  }
 ],
 "metadata": {
  "kernelspec": {
   "display_name": "Python 3 (ipykernel)",
   "language": "python",
   "name": "python3"
  },
  "language_info": {
   "codemirror_mode": {
    "name": "ipython",
    "version": 3
   },
   "file_extension": ".py",
   "mimetype": "text/x-python",
   "name": "python",
   "nbconvert_exporter": "python",
   "pygments_lexer": "ipython3",
   "version": "3.10.16"
  }
 },
 "nbformat": 4,
 "nbformat_minor": 5
}

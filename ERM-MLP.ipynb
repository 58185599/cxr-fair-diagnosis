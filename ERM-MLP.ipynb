{
 "cells": [
  {
   "cell_type": "code",
   "execution_count": 1,
   "id": "4190d547-310c-47bf-9c7d-dda53e57f67d",
   "metadata": {},
   "outputs": [],
   "source": [
    "import torch.nn as nn\n",
    "import torch.optim as optim\n",
    "import torch.nn.functional as F"
   ]
  },
  {
   "cell_type": "code",
   "execution_count": 2,
   "id": "fdb7e964-5791-4bae-9792-4384f1a14f6d",
   "metadata": {},
   "outputs": [],
   "source": [
    "\n",
    "import torch\n",
    "from torch.utils.data import Dataset, DataLoader\n",
    "import pandas as pd\n",
    "import numpy as np\n",
    "from sklearn.model_selection import train_test_split\n",
    "from sklearn.metrics import roc_auc_score\n",
    "import os\n",
    "\n",
    "\n"
   ]
  },
  {
   "cell_type": "code",
   "execution_count": 3,
   "id": "f3aae8cb-7897-492c-9113-d5ad44f41e9f",
   "metadata": {},
   "outputs": [],
   "source": [
    "class TFRecordVectorDataset(Dataset):\n",
    "    def __init__(self, dataframe):\n",
    "        self.data = dataframe\n",
    "        self.paths = self.data['path'].tolist()\n",
    "        self.labels = self.data.iloc[:, -14:].values.astype(np.float32)  # labels are in the last 14 columns\n",
    "\n",
    "    def __len__(self):\n",
    "        return len(self.paths)\n",
    "\n",
    "    def __getitem__(self, idx):\n",
    "        path = self.paths[idx]\n",
    "        try:\n",
    "            # readin .tfrecord\n",
    "            npy_path = path.replace('.tfrecord', '.npy')\n",
    "            embedding = np.load(npy_path)\n",
    "\n",
    "            \n",
    "            # Convert to Tensor\n",
    "            embedding_tensor = torch.tensor(embedding, dtype=torch.float32)  \n",
    "            label_tensor = torch.tensor(self.labels[idx], dtype=torch.float32)  \n",
    "            return embedding_tensor, label_tensor\n",
    "        except Exception as e:\n",
    "            print(f\"Error loading {path}: {str(e)}\")\n",
    "            return torch.zeros(1376), torch.zeros(14)  "
   ]
  },
  {
   "cell_type": "code",
   "execution_count": 4,
   "id": "96502e2f-673e-46e8-ae7d-12122167cc15",
   "metadata": {},
   "outputs": [
    {
     "name": "stdout",
     "output_type": "stream",
     "text": [
      "5\n"
     ]
    }
   ],
   "source": [
    "# Load csv file\n",
    "\n",
    "# Use the L40S GPU\n",
    "os.environ['CUDA_VISIBLE_DEVICES'] = \"5\"\n",
    "print(os.getenv('CUDA_VISIBLE_DEVICES'))\n",
    "\n",
    "# load  training set and test set\n",
    "#train_df, test_df = train_test_split(data, test_size=0.2, random_state=39)\n",
    "train_df = pd.read_csv(\"preprocessed_training.csv\")\n",
    "test_df = pd.read_csv(\"preprocessed_test.csv\")\n",
    "\n",
    "\n",
    "\n",
    "train_dataset = TFRecordVectorDataset(train_df)\n",
    "test_dataset = TFRecordVectorDataset(test_df)\n",
    "train_loader = DataLoader(train_dataset, batch_size=32, shuffle=True, num_workers=0)\n",
    "test_loader = DataLoader(test_dataset, batch_size=32, shuffle=False, num_workers=0)\n",
    "\n"
   ]
  },
  {
   "cell_type": "code",
   "execution_count": 5,
   "id": "2511f6e2-ae72-4979-8ff9-c9f80340f6dd",
   "metadata": {},
   "outputs": [
    {
     "name": "stdout",
     "output_type": "stream",
     "text": [
      "(207314, 33)\n",
      "\n",
      "label distribution in training set:\n",
      "gender                                112018.0\n",
      "insurance_Medicaid                     17152.0\n",
      "insurance_Medicare                     92265.0\n",
      "insurance_Other                        97897.0\n",
      "20-30                                   9882.0\n",
      "30-40                                  12025.0\n",
      "40-50                                  22666.0\n",
      "50-60                                  40674.0\n",
      "60-80                                  87345.0\n",
      "80+                                    33812.0\n",
      "race_AMERICAN INDIAN/ALASKA NATIVE       480.0\n",
      "race_ASIAN                              6630.0\n",
      "race_BLACK/AFRICAN AMERICAN            32887.0\n",
      "race_HISPANIC/LATINO                   11035.0\n",
      "race_OTHER                              9664.0\n",
      "race_UNABLE TO OBTAIN                    918.0\n",
      "race_UNKNOWN                            9844.0\n",
      "race_WHITE                            135856.0\n",
      "Enlarged Cardiomediastinum              6770.0\n",
      "Cardiomegaly                           42720.0\n",
      "Lung Opacity                           48801.0\n",
      "Lung Lesion                             5783.0\n",
      "Edema                                  26443.0\n",
      "Consolidation                          10385.0\n",
      "Pneumonia                              15022.0\n",
      "Atelectasis                            43725.0\n",
      "Pneumothorax                           10230.0\n",
      "Pleural Effusion                       52103.0\n",
      "Pleural Other                           1817.0\n",
      "Fracture                                3955.0\n",
      "Support Devices                        66316.0\n",
      "No Finding                             63746.0\n",
      "dtype: float64\n"
     ]
    }
   ],
   "source": [
    "print(train_df.shape)\n",
    "print(\"\\nlabel distribution in training set:\")\n",
    "print(train_df.select_dtypes(include=[np.number]).sum())"
   ]
  },
  {
   "cell_type": "code",
   "execution_count": 6,
   "id": "a9da904d-759d-436d-9707-fa1f0ca75549",
   "metadata": {},
   "outputs": [
    {
     "name": "stdout",
     "output_type": "stream",
     "text": [
      "(21591, 31)\n",
      "\n",
      "label distribution in test set:\n",
      "gender                                11913.0\n",
      "insurance_Medicaid                     1812.0\n",
      "insurance_Medicare                     9862.0\n",
      "insurance_Other                        9917.0\n",
      "20-30                                  1067.0\n",
      "30-40                                  1238.0\n",
      "40-50                                  2425.0\n",
      "50-60                                  4103.0\n",
      "60-80                                  9189.0\n",
      "80+                                    3487.0\n",
      "race_AMERICAN INDIAN/ALASKA NATIVE      184.0\n",
      "race_ASIAN                              760.0\n",
      "race_BLACK/AFRICAN AMERICAN            3685.0\n",
      "race_HISPANIC/LATINO                   1392.0\n",
      "race_OTHER                             1062.0\n",
      "race_WHITE                            14508.0\n",
      "Enlarged Cardiomediastinum              761.0\n",
      "Cardiomegaly                           4441.0\n",
      "Lung Opacity                           4904.0\n",
      "Lung Lesion                             634.0\n",
      "Edema                                  2786.0\n",
      "Consolidation                          1010.0\n",
      "Pneumonia                              1552.0\n",
      "Atelectasis                            4527.0\n",
      "Pneumothorax                            956.0\n",
      "Pleural Effusion                       5402.0\n",
      "Pleural Other                           208.0\n",
      "Fracture                                419.0\n",
      "Support Devices                        6614.0\n",
      "No Finding                             6816.0\n",
      "dtype: float64\n"
     ]
    }
   ],
   "source": [
    "print(test_df.shape)\n",
    "print(\"\\nlabel distribution in test set:\")\n",
    "print(test_df.select_dtypes(include=[np.number]).sum())"
   ]
  },
  {
   "cell_type": "code",
   "execution_count": 7,
   "id": "89c3bc27-00bb-4f1f-a17a-92e0aa8575bd",
   "metadata": {},
   "outputs": [],
   "source": [
    "import torch.nn as nn\n",
    "\n",
    "class MLP(nn.Module):\n",
    "    def __init__(self, input_size, hidden_size1, hidden_size2, output_size):\n",
    "        super(MLP, self).__init__()\n",
    "        # First hidden layer\n",
    "        self.fc1 = nn.Linear(input_size, hidden_size1)\n",
    "        # Second hidden layer\n",
    "        self.fc2 = nn.Linear(hidden_size1, hidden_size2)\n",
    "        # Output\n",
    "        self.fc3 = nn.Linear(hidden_size2, output_size)\n",
    "        # Activation Func\n",
    "        self.relu = nn.ReLU()\n",
    "\n",
    "    def forward(self, x):\n",
    "        # First\n",
    "        out = self.fc1(x)\n",
    "        out = self.relu(out)\n",
    "        # Second\n",
    "        out = self.fc2(out)\n",
    "        out = self.relu(out)\n",
    "        # Output\n",
    "        out = self.fc3(out)\n",
    "        return out"
   ]
  },
  {
   "cell_type": "code",
   "execution_count": 8,
   "id": "ccb9ed03-26b4-4a6e-bbc4-344e3e2ccb97",
   "metadata": {},
   "outputs": [
    {
     "name": "stdout",
     "output_type": "stream",
     "text": [
      "cuda\n"
     ]
    }
   ],
   "source": [
    "\n",
    "# Initialization\n",
    "input_size = 1376  # dimension of input vector\n",
    "hidden_size1 = 512  # dimension of first layer \n",
    "hidden_size2 = 256  # dimension of second layer\n",
    "output_size = 14   # number of labels\n",
    "\n",
    "\n",
    "device = torch.device(\"cuda\" if torch.cuda.is_available() else \"cpu\")\n",
    "print(device)\n",
    "model = MLP(input_size, hidden_size1, hidden_size2, output_size)\n",
    "\n",
    "if torch.cuda.device_count() > 1:\n",
    "    print(f\"Using {torch.cuda.device_count()} GPUs!\")\n",
    "    model = nn.DataParallel(model)\n",
    "\n",
    "model = model.to(device)\n",
    "# optimizer and loss function\n",
    "criterion = nn.BCEWithLogitsLoss()  \n",
    "optimizer = optim.Adam(model.parameters(), lr=0.001)"
   ]
  },
  {
   "cell_type": "code",
   "execution_count": 9,
   "id": "25d03756-029f-4d54-8072-0f81a38ce7a9",
   "metadata": {
    "scrolled": true
   },
   "outputs": [],
   "source": [
    "from sklearn.metrics import roc_auc_score\n",
    "import numpy as np\n",
    "from tqdm import tqdm\n",
    "\n",
    "# Define number epochs\n",
    "num_epochs = 20\n",
    "best_auroc = 0.0"
   ]
  },
  {
   "cell_type": "code",
   "execution_count": 10,
   "id": "79f3272a-73ba-434f-ae1b-0096dcddc2e9",
   "metadata": {},
   "outputs": [
    {
     "name": "stderr",
     "output_type": "stream",
     "text": [
      "Epoch 1/20 - Training: 100%|███████████████████████████████████████████████████████| 6479/6479 [00:55<00:00, 116.29it/s]\n"
     ]
    },
    {
     "name": "stdout",
     "output_type": "stream",
     "text": [
      "Epoch 1, Train Loss: 0.2593\n"
     ]
    },
    {
     "name": "stderr",
     "output_type": "stream",
     "text": [
      "Epoch 1/20 - Validation: 100%|███████████████████████████████████████████████████████| 675/675 [00:03<00:00, 176.45it/s]\n"
     ]
    },
    {
     "name": "stdout",
     "output_type": "stream",
     "text": [
      "Epoch 1, Validation Macro AUROC: 0.8153\n",
      "Best model saved with AUROC: 0.8153\n"
     ]
    },
    {
     "name": "stderr",
     "output_type": "stream",
     "text": [
      "Epoch 2/20 - Training: 100%|███████████████████████████████████████████████████████| 6479/6479 [00:51<00:00, 125.38it/s]\n"
     ]
    },
    {
     "name": "stdout",
     "output_type": "stream",
     "text": [
      "Epoch 2, Train Loss: 0.2537\n"
     ]
    },
    {
     "name": "stderr",
     "output_type": "stream",
     "text": [
      "Epoch 2/20 - Validation: 100%|███████████████████████████████████████████████████████| 675/675 [00:03<00:00, 189.10it/s]\n"
     ]
    },
    {
     "name": "stdout",
     "output_type": "stream",
     "text": [
      "Epoch 2, Validation Macro AUROC: 0.8140\n"
     ]
    },
    {
     "name": "stderr",
     "output_type": "stream",
     "text": [
      "Epoch 3/20 - Training: 100%|███████████████████████████████████████████████████████| 6479/6479 [00:51<00:00, 124.97it/s]\n"
     ]
    },
    {
     "name": "stdout",
     "output_type": "stream",
     "text": [
      "Epoch 3, Train Loss: 0.2520\n"
     ]
    },
    {
     "name": "stderr",
     "output_type": "stream",
     "text": [
      "Epoch 3/20 - Validation: 100%|███████████████████████████████████████████████████████| 675/675 [00:03<00:00, 192.27it/s]\n"
     ]
    },
    {
     "name": "stdout",
     "output_type": "stream",
     "text": [
      "Epoch 3, Validation Macro AUROC: 0.8214\n",
      "Best model saved with AUROC: 0.8214\n"
     ]
    },
    {
     "name": "stderr",
     "output_type": "stream",
     "text": [
      "Epoch 4/20 - Training: 100%|███████████████████████████████████████████████████████| 6479/6479 [00:50<00:00, 128.43it/s]\n"
     ]
    },
    {
     "name": "stdout",
     "output_type": "stream",
     "text": [
      "Epoch 4, Train Loss: 0.2510\n"
     ]
    },
    {
     "name": "stderr",
     "output_type": "stream",
     "text": [
      "Epoch 4/20 - Validation: 100%|███████████████████████████████████████████████████████| 675/675 [00:03<00:00, 192.24it/s]\n"
     ]
    },
    {
     "name": "stdout",
     "output_type": "stream",
     "text": [
      "Epoch 4, Validation Macro AUROC: 0.8221\n",
      "Best model saved with AUROC: 0.8221\n"
     ]
    },
    {
     "name": "stderr",
     "output_type": "stream",
     "text": [
      "Epoch 5/20 - Training: 100%|███████████████████████████████████████████████████████| 6479/6479 [00:50<00:00, 128.03it/s]\n"
     ]
    },
    {
     "name": "stdout",
     "output_type": "stream",
     "text": [
      "Epoch 5, Train Loss: 0.2502\n"
     ]
    },
    {
     "name": "stderr",
     "output_type": "stream",
     "text": [
      "Epoch 5/20 - Validation: 100%|███████████████████████████████████████████████████████| 675/675 [00:03<00:00, 188.16it/s]\n"
     ]
    },
    {
     "name": "stdout",
     "output_type": "stream",
     "text": [
      "Epoch 5, Validation Macro AUROC: 0.8199\n"
     ]
    },
    {
     "name": "stderr",
     "output_type": "stream",
     "text": [
      "Epoch 6/20 - Training: 100%|███████████████████████████████████████████████████████| 6479/6479 [00:49<00:00, 130.21it/s]\n"
     ]
    },
    {
     "name": "stdout",
     "output_type": "stream",
     "text": [
      "Epoch 6, Train Loss: 0.2496\n"
     ]
    },
    {
     "name": "stderr",
     "output_type": "stream",
     "text": [
      "Epoch 6/20 - Validation: 100%|███████████████████████████████████████████████████████| 675/675 [00:03<00:00, 191.58it/s]\n"
     ]
    },
    {
     "name": "stdout",
     "output_type": "stream",
     "text": [
      "Epoch 6, Validation Macro AUROC: 0.8260\n",
      "Best model saved with AUROC: 0.8260\n"
     ]
    },
    {
     "name": "stderr",
     "output_type": "stream",
     "text": [
      "Epoch 7/20 - Training: 100%|███████████████████████████████████████████████████████| 6479/6479 [00:47<00:00, 136.38it/s]\n"
     ]
    },
    {
     "name": "stdout",
     "output_type": "stream",
     "text": [
      "Epoch 7, Train Loss: 0.2492\n"
     ]
    },
    {
     "name": "stderr",
     "output_type": "stream",
     "text": [
      "Epoch 7/20 - Validation: 100%|███████████████████████████████████████████████████████| 675/675 [00:03<00:00, 190.10it/s]\n"
     ]
    },
    {
     "name": "stdout",
     "output_type": "stream",
     "text": [
      "Epoch 7, Validation Macro AUROC: 0.8245\n"
     ]
    },
    {
     "name": "stderr",
     "output_type": "stream",
     "text": [
      "Epoch 8/20 - Training: 100%|███████████████████████████████████████████████████████| 6479/6479 [00:47<00:00, 135.51it/s]\n"
     ]
    },
    {
     "name": "stdout",
     "output_type": "stream",
     "text": [
      "Epoch 8, Train Loss: 0.2487\n"
     ]
    },
    {
     "name": "stderr",
     "output_type": "stream",
     "text": [
      "Epoch 8/20 - Validation: 100%|███████████████████████████████████████████████████████| 675/675 [00:03<00:00, 193.81it/s]\n"
     ]
    },
    {
     "name": "stdout",
     "output_type": "stream",
     "text": [
      "Epoch 8, Validation Macro AUROC: 0.8232\n"
     ]
    },
    {
     "name": "stderr",
     "output_type": "stream",
     "text": [
      "Epoch 9/20 - Training: 100%|███████████████████████████████████████████████████████| 6479/6479 [00:51<00:00, 126.85it/s]\n"
     ]
    },
    {
     "name": "stdout",
     "output_type": "stream",
     "text": [
      "Epoch 9, Train Loss: 0.2483\n"
     ]
    },
    {
     "name": "stderr",
     "output_type": "stream",
     "text": [
      "Epoch 9/20 - Validation: 100%|███████████████████████████████████████████████████████| 675/675 [00:03<00:00, 186.07it/s]\n"
     ]
    },
    {
     "name": "stdout",
     "output_type": "stream",
     "text": [
      "Epoch 9, Validation Macro AUROC: 0.8262\n",
      "Best model saved with AUROC: 0.8262\n"
     ]
    },
    {
     "name": "stderr",
     "output_type": "stream",
     "text": [
      "Epoch 10/20 - Training: 100%|██████████████████████████████████████████████████████| 6479/6479 [00:50<00:00, 128.82it/s]\n"
     ]
    },
    {
     "name": "stdout",
     "output_type": "stream",
     "text": [
      "Epoch 10, Train Loss: 0.2480\n"
     ]
    },
    {
     "name": "stderr",
     "output_type": "stream",
     "text": [
      "Epoch 10/20 - Validation: 100%|██████████████████████████████████████████████████████| 675/675 [00:03<00:00, 190.75it/s]\n"
     ]
    },
    {
     "name": "stdout",
     "output_type": "stream",
     "text": [
      "Epoch 10, Validation Macro AUROC: 0.8262\n"
     ]
    },
    {
     "name": "stderr",
     "output_type": "stream",
     "text": [
      "Epoch 11/20 - Training: 100%|██████████████████████████████████████████████████████| 6479/6479 [00:46<00:00, 138.47it/s]\n"
     ]
    },
    {
     "name": "stdout",
     "output_type": "stream",
     "text": [
      "Epoch 11, Train Loss: 0.2477\n"
     ]
    },
    {
     "name": "stderr",
     "output_type": "stream",
     "text": [
      "Epoch 11/20 - Validation: 100%|██████████████████████████████████████████████████████| 675/675 [00:03<00:00, 194.58it/s]\n"
     ]
    },
    {
     "name": "stdout",
     "output_type": "stream",
     "text": [
      "Epoch 11, Validation Macro AUROC: 0.8247\n"
     ]
    },
    {
     "name": "stderr",
     "output_type": "stream",
     "text": [
      "Epoch 12/20 - Training: 100%|██████████████████████████████████████████████████████| 6479/6479 [00:48<00:00, 133.31it/s]\n"
     ]
    },
    {
     "name": "stdout",
     "output_type": "stream",
     "text": [
      "Epoch 12, Train Loss: 0.2475\n"
     ]
    },
    {
     "name": "stderr",
     "output_type": "stream",
     "text": [
      "Epoch 12/20 - Validation: 100%|██████████████████████████████████████████████████████| 675/675 [00:03<00:00, 188.22it/s]\n"
     ]
    },
    {
     "name": "stdout",
     "output_type": "stream",
     "text": [
      "Epoch 12, Validation Macro AUROC: 0.8249\n"
     ]
    },
    {
     "name": "stderr",
     "output_type": "stream",
     "text": [
      "Epoch 13/20 - Training: 100%|██████████████████████████████████████████████████████| 6479/6479 [00:50<00:00, 128.92it/s]\n"
     ]
    },
    {
     "name": "stdout",
     "output_type": "stream",
     "text": [
      "Epoch 13, Train Loss: 0.2472\n"
     ]
    },
    {
     "name": "stderr",
     "output_type": "stream",
     "text": [
      "Epoch 13/20 - Validation: 100%|██████████████████████████████████████████████████████| 675/675 [00:03<00:00, 188.04it/s]\n"
     ]
    },
    {
     "name": "stdout",
     "output_type": "stream",
     "text": [
      "Epoch 13, Validation Macro AUROC: 0.8255\n"
     ]
    },
    {
     "name": "stderr",
     "output_type": "stream",
     "text": [
      "Epoch 14/20 - Training: 100%|██████████████████████████████████████████████████████| 6479/6479 [00:51<00:00, 125.92it/s]\n"
     ]
    },
    {
     "name": "stdout",
     "output_type": "stream",
     "text": [
      "Epoch 14, Train Loss: 0.2470\n"
     ]
    },
    {
     "name": "stderr",
     "output_type": "stream",
     "text": [
      "Epoch 14/20 - Validation: 100%|██████████████████████████████████████████████████████| 675/675 [00:03<00:00, 190.92it/s]\n"
     ]
    },
    {
     "name": "stdout",
     "output_type": "stream",
     "text": [
      "Epoch 14, Validation Macro AUROC: 0.8218\n"
     ]
    },
    {
     "name": "stderr",
     "output_type": "stream",
     "text": [
      "Epoch 15/20 - Training: 100%|██████████████████████████████████████████████████████| 6479/6479 [00:51<00:00, 126.77it/s]\n"
     ]
    },
    {
     "name": "stdout",
     "output_type": "stream",
     "text": [
      "Epoch 15, Train Loss: 0.2468\n"
     ]
    },
    {
     "name": "stderr",
     "output_type": "stream",
     "text": [
      "Epoch 15/20 - Validation: 100%|██████████████████████████████████████████████████████| 675/675 [00:03<00:00, 193.84it/s]\n"
     ]
    },
    {
     "name": "stdout",
     "output_type": "stream",
     "text": [
      "Epoch 15, Validation Macro AUROC: 0.8265\n",
      "Best model saved with AUROC: 0.8265\n"
     ]
    },
    {
     "name": "stderr",
     "output_type": "stream",
     "text": [
      "Epoch 16/20 - Training: 100%|██████████████████████████████████████████████████████| 6479/6479 [00:47<00:00, 135.09it/s]\n"
     ]
    },
    {
     "name": "stdout",
     "output_type": "stream",
     "text": [
      "Epoch 16, Train Loss: 0.2465\n"
     ]
    },
    {
     "name": "stderr",
     "output_type": "stream",
     "text": [
      "Epoch 16/20 - Validation: 100%|██████████████████████████████████████████████████████| 675/675 [00:03<00:00, 186.94it/s]\n"
     ]
    },
    {
     "name": "stdout",
     "output_type": "stream",
     "text": [
      "Epoch 16, Validation Macro AUROC: 0.8252\n"
     ]
    },
    {
     "name": "stderr",
     "output_type": "stream",
     "text": [
      "Epoch 17/20 - Training: 100%|██████████████████████████████████████████████████████| 6479/6479 [00:50<00:00, 129.01it/s]\n"
     ]
    },
    {
     "name": "stdout",
     "output_type": "stream",
     "text": [
      "Epoch 17, Train Loss: 0.2463\n"
     ]
    },
    {
     "name": "stderr",
     "output_type": "stream",
     "text": [
      "Epoch 17/20 - Validation: 100%|██████████████████████████████████████████████████████| 675/675 [00:03<00:00, 191.04it/s]\n"
     ]
    },
    {
     "name": "stdout",
     "output_type": "stream",
     "text": [
      "Epoch 17, Validation Macro AUROC: 0.8235\n"
     ]
    },
    {
     "name": "stderr",
     "output_type": "stream",
     "text": [
      "Epoch 18/20 - Training: 100%|██████████████████████████████████████████████████████| 6479/6479 [00:50<00:00, 129.07it/s]\n"
     ]
    },
    {
     "name": "stdout",
     "output_type": "stream",
     "text": [
      "Epoch 18, Train Loss: 0.2461\n"
     ]
    },
    {
     "name": "stderr",
     "output_type": "stream",
     "text": [
      "Epoch 18/20 - Validation: 100%|██████████████████████████████████████████████████████| 675/675 [00:03<00:00, 190.36it/s]\n"
     ]
    },
    {
     "name": "stdout",
     "output_type": "stream",
     "text": [
      "Epoch 18, Validation Macro AUROC: 0.8221\n"
     ]
    },
    {
     "name": "stderr",
     "output_type": "stream",
     "text": [
      "Epoch 19/20 - Training: 100%|██████████████████████████████████████████████████████| 6479/6479 [00:51<00:00, 126.62it/s]\n"
     ]
    },
    {
     "name": "stdout",
     "output_type": "stream",
     "text": [
      "Epoch 19, Train Loss: 0.2461\n"
     ]
    },
    {
     "name": "stderr",
     "output_type": "stream",
     "text": [
      "Epoch 19/20 - Validation: 100%|██████████████████████████████████████████████████████| 675/675 [00:03<00:00, 188.55it/s]\n"
     ]
    },
    {
     "name": "stdout",
     "output_type": "stream",
     "text": [
      "Epoch 19, Validation Macro AUROC: 0.8245\n"
     ]
    },
    {
     "name": "stderr",
     "output_type": "stream",
     "text": [
      "Epoch 20/20 - Training: 100%|██████████████████████████████████████████████████████| 6479/6479 [00:51<00:00, 126.63it/s]\n"
     ]
    },
    {
     "name": "stdout",
     "output_type": "stream",
     "text": [
      "Epoch 20, Train Loss: 0.2459\n"
     ]
    },
    {
     "name": "stderr",
     "output_type": "stream",
     "text": [
      "Epoch 20/20 - Validation: 100%|██████████████████████████████████████████████████████| 675/675 [00:03<00:00, 194.91it/s]\n"
     ]
    },
    {
     "name": "stdout",
     "output_type": "stream",
     "text": [
      "Epoch 20, Validation Macro AUROC: 0.8235\n",
      "Training complete.\n"
     ]
    }
   ],
   "source": [
    "for epoch in range(num_epochs):\n",
    "    # training\n",
    "    model.train()\n",
    "    running_loss = 0.0\n",
    "    for inputs, labels in tqdm(train_loader, desc=f'Epoch {epoch+1}/{num_epochs} - Training'):\n",
    "        inputs, labels = inputs.to(device), labels.to(device)\n",
    "        #inputs, labels = inputs.cuda(), labels.cuda()\n",
    "        \n",
    "\n",
    "        outputs = model(inputs)\n",
    "        loss = criterion(outputs, labels)\n",
    "        \n",
    "\n",
    "        optimizer.zero_grad()\n",
    "        loss.backward()\n",
    "        optimizer.step()\n",
    "        \n",
    "        running_loss += loss.item()\n",
    "    \n",
    "\n",
    "    train_loss = running_loss / len(train_loader)\n",
    "    print(f'Epoch {epoch+1}, Train Loss: {train_loss:.4f}')\n",
    "\n",
    "    # evaluation\n",
    "    model.eval()\n",
    "    all_probs = []\n",
    "    all_labels = []\n",
    "    with torch.no_grad():\n",
    "        for inputs, labels in tqdm(test_loader, desc=f'Epoch {epoch+1}/{num_epochs} - Validation'):\n",
    "            inputs, labels = inputs.to(device), labels.to(device)\n",
    "\n",
    "            \n",
    "\n",
    "            outputs = model(inputs)\n",
    "            probs = torch.sigmoid(outputs) \n",
    "            \n",
    "            # save results\n",
    "            all_probs.append(probs.cpu().numpy())\n",
    "            all_labels.append(labels.cpu().numpy())\n",
    "\n",
    "    # calculate AUROC\n",
    "    all_probs = np.concatenate(all_probs, axis=0)\n",
    "    all_labels = np.concatenate(all_labels, axis=0)\n",
    "    \n",
    "    auroc_scores = []\n",
    "    for i in range(all_labels.shape[1]):  # triverse all labels\n",
    "        try:\n",
    "            auroc = roc_auc_score(all_labels[:, i], all_probs[:, i])\n",
    "            auroc_scores.append(auroc)\n",
    "        except ValueError:\n",
    "            print(f\"Label {i} has no positive or negative samples in the test set.\")\n",
    "            auroc_scores.append(np.nan)\n",
    "    \n",
    "    # calculate macro AUROC\n",
    "    macro_auroc = np.nanmean(auroc_scores)\n",
    "    print(f'Epoch {epoch+1}, Validation Macro AUROC: {macro_auroc:.4f}')\n",
    "\n",
    "    # save the best model\n",
    "    if macro_auroc > best_auroc:\n",
    "        best_auroc = macro_auroc\n",
    "        torch.save(model.state_dict(), 'best_mlp_model.pth')\n",
    "        print(f'Best model saved with AUROC: {best_auroc:.4f}')\n",
    "\n",
    "print('Training complete.')"
   ]
  },
  {
   "cell_type": "code",
   "execution_count": 11,
   "id": "751e7461-de2a-4e41-89cc-32fe0a32b723",
   "metadata": {},
   "outputs": [],
   "source": [
    "# Save results using the model trained after last epoch\n",
    "\n",
    "column_name = [\n",
    "    \"Enlarged Cardiomediastinum\", \"Cardiomegaly\", \"Lung Opacity\", \"Lung Lesion\",\n",
    "    \"Edema\", \"Consolidation\", \"Pneumonia\", \"Atelectasis\", \"Pneumothorax\",\n",
    "    \"Pleural Effusion\", \"Pleural Other\", \"Fracture\", \"Support Devices\", \"No Finding\"\n",
    "]\n",
    "df_labels = pd.DataFrame(all_labels, columns=column_name)\n",
    "\n",
    "df_labels.to_csv(\"true_labels_sub.csv\", index=False)\n"
   ]
  },
  {
   "cell_type": "code",
   "execution_count": 12,
   "id": "3a057c97-c7ca-422d-88aa-66804c6b3bca",
   "metadata": {},
   "outputs": [],
   "source": [
    "df_predictions = pd.DataFrame(all_probs, columns=column_name)\n",
    "df_predictions.to_csv(\"predicted_labels_sub.csv\", index=False)"
   ]
  },
  {
   "cell_type": "raw",
   "id": "c416b91e-8f46-46b3-8a1e-7c225c5fe182",
   "metadata": {},
   "source": [
    "#  use the model with best AUC to predict\n",
    "model.load_state_dict(torch.load('best_mlp_model.pth'))\n",
    "all_probs = []\n",
    "all_labels = []\n",
    "with torch.no_grad():\n",
    "    for inputs, labels in tqdm(test_loader, desc='Evaluating'):\n",
    "        inputs, labels = inputs.to(device), labels.to(device)\n",
    "\n",
    "        outputs = model(inputs)\n",
    "        probs = torch.sigmoid(outputs)  \n",
    "\n",
    "        all_probs.append(probs.cpu().numpy())\n",
    "        all_labels.append(labels.cpu().numpy())\n",
    "\n",
    "all_probs = np.concatenate(all_probs, axis=0)\n",
    "all_labels = np.concatenate(all_labels, axis=0)\n",
    "\n",
    "auroc_scores = []\n",
    "for i in range(all_labels.shape[1]):\n",
    "    try:\n",
    "        auroc = roc_auc_score(all_labels[:, i], all_probs[:, i])\n",
    "        auroc_scores.append(auroc)\n",
    "    except ValueError:\n",
    "        print(f\"Label {i} has no positive or negative samples in the test set.\")\n",
    "        auroc_scores.append(np.nan)\n",
    "\n",
    "macro_auroc = np.nanmean(auroc_scores)\n",
    "print(f'Validation Macro AUROC: {macro_auroc:.4f}')"
   ]
  },
  {
   "cell_type": "raw",
   "id": "0120092b-883b-4a4c-ab03-2ebe1e2ad62f",
   "metadata": {},
   "source": [
    "column_name = [\n",
    "    \"Enlarged Cardiomediastinum\", \"Cardiomegaly\", \"Lung Opacity\", \"Lung Lesion\",\n",
    "    \"Edema\", \"Consolidation\", \"Pneumonia\", \"Atelectasis\", \"Pneumothorax\",\n",
    "    \"Pleural Effusion\", \"Pleural Other\", \"Fracture\", \"Support Devices\", \"No Finding\"\n",
    "]\n",
    "df_labels = pd.DataFrame(all_labels, columns=column_name)\n",
    "\n",
    "df_labels.to_csv(\"true_labels_sub.csv\", index=False)\n"
   ]
  },
  {
   "cell_type": "raw",
   "id": "cb521844-458b-4fd5-8c08-8306a9cea8f0",
   "metadata": {},
   "source": [
    "df_predictions = pd.DataFrame(all_probs, columns=column_name)\n",
    "df_predictions.to_csv(\"predicted_labels_sub.csv\", index=False)"
   ]
  }
 ],
 "metadata": {
  "kernelspec": {
   "display_name": "Python 3 (ipykernel)",
   "language": "python",
   "name": "python3"
  },
  "language_info": {
   "codemirror_mode": {
    "name": "ipython",
    "version": 3
   },
   "file_extension": ".py",
   "mimetype": "text/x-python",
   "name": "python",
   "nbconvert_exporter": "python",
   "pygments_lexer": "ipython3",
   "version": "3.10.16"
  }
 },
 "nbformat": 4,
 "nbformat_minor": 5
}
